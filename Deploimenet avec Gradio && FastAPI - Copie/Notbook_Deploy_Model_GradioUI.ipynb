{
 "cells": [
  {
   "cell_type": "markdown",
   "id": "d89b2f70",
   "metadata": {},
   "source": [
    "# Installation du packages"
   ]
  },
  {
   "cell_type": "code",
   "execution_count": 1,
   "id": "dad5e601",
   "metadata": {},
   "outputs": [
    {
     "name": "stdout",
     "output_type": "stream",
     "text": [
      "Salam !\n"
     ]
    }
   ],
   "source": [
    "print('Salam !')"
   ]
  },
  {
   "cell_type": "code",
   "execution_count": 3,
   "id": "d7344005",
   "metadata": {},
   "outputs": [
    {
     "name": "stdout",
     "output_type": "stream",
     "text": [
      "Collecting ultralytics\n",
      "  Downloading ultralytics-8.3.173-py3-none-any.whl.metadata (37 kB)\n",
      "Requirement already satisfied: numpy>=1.23.0 in c:\\users\\lenovo\\anaconda3\\lib\\site-packages (from ultralytics) (1.26.4)\n",
      "Requirement already satisfied: matplotlib>=3.3.0 in c:\\users\\lenovo\\anaconda3\\lib\\site-packages (from ultralytics) (3.9.2)\n",
      "Collecting opencv-python>=4.6.0 (from ultralytics)\n",
      "  Downloading opencv_python-4.12.0.88-cp37-abi3-win_amd64.whl.metadata (19 kB)\n",
      "Requirement already satisfied: pillow>=7.1.2 in c:\\users\\lenovo\\anaconda3\\lib\\site-packages (from ultralytics) (11.2.1)\n",
      "Requirement already satisfied: pyyaml>=5.3.1 in c:\\users\\lenovo\\anaconda3\\lib\\site-packages (from ultralytics) (6.0.1)\n",
      "Requirement already satisfied: requests>=2.23.0 in c:\\users\\lenovo\\anaconda3\\lib\\site-packages (from ultralytics) (2.32.3)\n",
      "Requirement already satisfied: scipy>=1.4.1 in c:\\users\\lenovo\\anaconda3\\lib\\site-packages (from ultralytics) (1.13.1)\n",
      "Requirement already satisfied: torch>=1.8.0 in c:\\users\\lenovo\\anaconda3\\lib\\site-packages (from ultralytics) (2.6.0)\n",
      "Requirement already satisfied: torchvision>=0.9.0 in c:\\users\\lenovo\\anaconda3\\lib\\site-packages (from ultralytics) (0.21.0)\n",
      "Requirement already satisfied: tqdm>=4.64.0 in c:\\users\\lenovo\\anaconda3\\lib\\site-packages (from ultralytics) (4.66.5)\n",
      "Requirement already satisfied: psutil in c:\\users\\lenovo\\anaconda3\\lib\\site-packages (from ultralytics) (5.9.0)\n",
      "Requirement already satisfied: py-cpuinfo in c:\\users\\lenovo\\anaconda3\\lib\\site-packages (from ultralytics) (9.0.0)\n",
      "Requirement already satisfied: pandas>=1.1.4 in c:\\users\\lenovo\\anaconda3\\lib\\site-packages (from ultralytics) (2.2.2)\n",
      "Collecting ultralytics-thop>=2.0.0 (from ultralytics)\n",
      "  Downloading ultralytics_thop-2.0.14-py3-none-any.whl.metadata (9.4 kB)\n",
      "Requirement already satisfied: contourpy>=1.0.1 in c:\\users\\lenovo\\anaconda3\\lib\\site-packages (from matplotlib>=3.3.0->ultralytics) (1.2.0)\n",
      "Requirement already satisfied: cycler>=0.10 in c:\\users\\lenovo\\anaconda3\\lib\\site-packages (from matplotlib>=3.3.0->ultralytics) (0.11.0)\n",
      "Requirement already satisfied: fonttools>=4.22.0 in c:\\users\\lenovo\\anaconda3\\lib\\site-packages (from matplotlib>=3.3.0->ultralytics) (4.51.0)\n",
      "Requirement already satisfied: kiwisolver>=1.3.1 in c:\\users\\lenovo\\anaconda3\\lib\\site-packages (from matplotlib>=3.3.0->ultralytics) (1.4.4)\n",
      "Requirement already satisfied: packaging>=20.0 in c:\\users\\lenovo\\anaconda3\\lib\\site-packages (from matplotlib>=3.3.0->ultralytics) (24.1)\n",
      "Requirement already satisfied: pyparsing>=2.3.1 in c:\\users\\lenovo\\anaconda3\\lib\\site-packages (from matplotlib>=3.3.0->ultralytics) (3.1.2)\n",
      "Requirement already satisfied: python-dateutil>=2.7 in c:\\users\\lenovo\\anaconda3\\lib\\site-packages (from matplotlib>=3.3.0->ultralytics) (2.9.0.post0)\n",
      "Collecting numpy>=1.23.0 (from ultralytics)\n",
      "  Downloading numpy-2.2.6-cp312-cp312-win_amd64.whl.metadata (60 kB)\n",
      "Requirement already satisfied: pytz>=2020.1 in c:\\users\\lenovo\\anaconda3\\lib\\site-packages (from pandas>=1.1.4->ultralytics) (2024.1)\n",
      "Requirement already satisfied: tzdata>=2022.7 in c:\\users\\lenovo\\anaconda3\\lib\\site-packages (from pandas>=1.1.4->ultralytics) (2023.3)\n",
      "Requirement already satisfied: charset-normalizer<4,>=2 in c:\\users\\lenovo\\anaconda3\\lib\\site-packages (from requests>=2.23.0->ultralytics) (3.3.2)\n",
      "Requirement already satisfied: idna<4,>=2.5 in c:\\users\\lenovo\\anaconda3\\lib\\site-packages (from requests>=2.23.0->ultralytics) (3.7)\n",
      "Requirement already satisfied: urllib3<3,>=1.21.1 in c:\\users\\lenovo\\anaconda3\\lib\\site-packages (from requests>=2.23.0->ultralytics) (2.2.3)\n",
      "Requirement already satisfied: certifi>=2017.4.17 in c:\\users\\lenovo\\anaconda3\\lib\\site-packages (from requests>=2.23.0->ultralytics) (2025.1.31)\n",
      "Requirement already satisfied: filelock in c:\\users\\lenovo\\anaconda3\\lib\\site-packages (from torch>=1.8.0->ultralytics) (3.13.1)\n",
      "Requirement already satisfied: typing-extensions>=4.10.0 in c:\\users\\lenovo\\anaconda3\\lib\\site-packages (from torch>=1.8.0->ultralytics) (4.12.2)\n",
      "Requirement already satisfied: networkx in c:\\users\\lenovo\\anaconda3\\lib\\site-packages (from torch>=1.8.0->ultralytics) (3.3)\n",
      "Requirement already satisfied: jinja2 in c:\\users\\lenovo\\anaconda3\\lib\\site-packages (from torch>=1.8.0->ultralytics) (3.1.4)\n",
      "Requirement already satisfied: fsspec in c:\\users\\lenovo\\anaconda3\\lib\\site-packages (from torch>=1.8.0->ultralytics) (2024.6.1)\n",
      "Requirement already satisfied: setuptools in c:\\users\\lenovo\\anaconda3\\lib\\site-packages (from torch>=1.8.0->ultralytics) (75.1.0)\n",
      "Requirement already satisfied: sympy==1.13.1 in c:\\users\\lenovo\\anaconda3\\lib\\site-packages (from torch>=1.8.0->ultralytics) (1.13.1)\n",
      "Requirement already satisfied: mpmath<1.4,>=1.1.0 in c:\\users\\lenovo\\anaconda3\\lib\\site-packages (from sympy==1.13.1->torch>=1.8.0->ultralytics) (1.3.0)\n",
      "Requirement already satisfied: colorama in c:\\users\\lenovo\\anaconda3\\lib\\site-packages (from tqdm>=4.64.0->ultralytics) (0.4.6)\n",
      "INFO: pip is looking at multiple versions of contourpy to determine which version is compatible with other requirements. This could take a while.\n",
      "Collecting contourpy>=1.0.1 (from matplotlib>=3.3.0->ultralytics)\n",
      "  Downloading contourpy-1.3.3-cp312-cp312-win_amd64.whl.metadata (5.5 kB)\n",
      "Requirement already satisfied: six>=1.5 in c:\\users\\lenovo\\anaconda3\\lib\\site-packages (from python-dateutil>=2.7->matplotlib>=3.3.0->ultralytics) (1.16.0)\n",
      "Requirement already satisfied: MarkupSafe>=2.0 in c:\\users\\lenovo\\anaconda3\\lib\\site-packages (from jinja2->torch>=1.8.0->ultralytics) (2.1.3)\n",
      "Downloading ultralytics-8.3.173-py3-none-any.whl (1.0 MB)\n",
      "   ---------------------------------------- 0.0/1.0 MB ? eta -:--:--\n",
      "   -------------------- ------------------- 0.5/1.0 MB 5.6 MB/s eta 0:00:01\n",
      "   ---------------------------------------- 1.0/1.0 MB 3.1 MB/s eta 0:00:00\n",
      "Downloading opencv_python-4.12.0.88-cp37-abi3-win_amd64.whl (39.0 MB)\n",
      "   ---------------------------------------- 0.0/39.0 MB ? eta -:--:--\n",
      "   - -------------------------------------- 1.0/39.0 MB 6.3 MB/s eta 0:00:07\n",
      "   -- ------------------------------------- 2.4/39.0 MB 6.1 MB/s eta 0:00:07\n",
      "   --- ------------------------------------ 3.1/39.0 MB 5.3 MB/s eta 0:00:07\n",
      "   ---- ----------------------------------- 4.2/39.0 MB 5.0 MB/s eta 0:00:07\n",
      "   ----- ---------------------------------- 5.0/39.0 MB 4.8 MB/s eta 0:00:08\n",
      "   ----- ---------------------------------- 5.8/39.0 MB 5.0 MB/s eta 0:00:07\n",
      "   ------ --------------------------------- 6.8/39.0 MB 4.6 MB/s eta 0:00:07\n",
      "   ------- -------------------------------- 7.3/39.0 MB 4.4 MB/s eta 0:00:08\n",
      "   -------- ------------------------------- 8.1/39.0 MB 4.2 MB/s eta 0:00:08\n",
      "   -------- ------------------------------- 8.7/39.0 MB 4.1 MB/s eta 0:00:08\n",
      "   --------- ------------------------------ 8.9/39.0 MB 3.9 MB/s eta 0:00:08\n",
      "   --------- ------------------------------ 9.2/39.0 MB 3.9 MB/s eta 0:00:08\n",
      "   --------- ------------------------------ 9.4/39.0 MB 3.7 MB/s eta 0:00:09\n",
      "   ---------- ----------------------------- 10.0/39.0 MB 3.4 MB/s eta 0:00:09\n",
      "   ---------- ----------------------------- 10.2/39.0 MB 3.3 MB/s eta 0:00:09\n",
      "   ---------- ----------------------------- 10.5/39.0 MB 3.2 MB/s eta 0:00:09\n",
      "   ----------- ---------------------------- 11.0/39.0 MB 3.1 MB/s eta 0:00:10\n",
      "   ----------- ---------------------------- 11.3/39.0 MB 3.0 MB/s eta 0:00:10\n",
      "   ----------- ---------------------------- 11.5/39.0 MB 3.0 MB/s eta 0:00:10\n",
      "   ------------ --------------------------- 11.8/39.0 MB 2.8 MB/s eta 0:00:10\n",
      "   ------------ --------------------------- 11.8/39.0 MB 2.8 MB/s eta 0:00:10\n",
      "   ------------ --------------------------- 12.1/39.0 MB 2.7 MB/s eta 0:00:11\n",
      "   ------------ --------------------------- 12.3/39.0 MB 2.6 MB/s eta 0:00:11\n",
      "   ------------ --------------------------- 12.6/39.0 MB 2.5 MB/s eta 0:00:11\n",
      "   ------------- -------------------------- 12.8/39.0 MB 2.4 MB/s eta 0:00:11\n",
      "   ------------- -------------------------- 13.1/39.0 MB 2.4 MB/s eta 0:00:11\n",
      "   ------------- -------------------------- 13.1/39.0 MB 2.4 MB/s eta 0:00:11\n",
      "   ------------- -------------------------- 13.1/39.0 MB 2.4 MB/s eta 0:00:11\n",
      "   ------------- -------------------------- 13.4/39.0 MB 2.2 MB/s eta 0:00:12\n",
      "   ------------- -------------------------- 13.4/39.0 MB 2.2 MB/s eta 0:00:12\n",
      "   ------------- -------------------------- 13.6/39.0 MB 2.1 MB/s eta 0:00:13\n",
      "   ------------- -------------------------- 13.6/39.0 MB 2.1 MB/s eta 0:00:13\n",
      "   -------------- ------------------------- 13.9/39.0 MB 2.0 MB/s eta 0:00:13\n",
      "   -------------- ------------------------- 13.9/39.0 MB 2.0 MB/s eta 0:00:13\n",
      "   -------------- ------------------------- 14.2/39.0 MB 1.9 MB/s eta 0:00:13\n",
      "   -------------- ------------------------- 14.4/39.0 MB 1.9 MB/s eta 0:00:14\n",
      "   -------------- ------------------------- 14.4/39.0 MB 1.9 MB/s eta 0:00:14\n",
      "   --------------- ------------------------ 14.7/39.0 MB 1.8 MB/s eta 0:00:14\n",
      "   --------------- ------------------------ 14.7/39.0 MB 1.8 MB/s eta 0:00:14\n",
      "   --------------- ------------------------ 14.9/39.0 MB 1.8 MB/s eta 0:00:14\n",
      "   --------------- ------------------------ 15.2/39.0 MB 1.8 MB/s eta 0:00:14\n",
      "   --------------- ------------------------ 15.5/39.0 MB 1.8 MB/s eta 0:00:14\n",
      "   ---------------- ----------------------- 15.7/39.0 MB 1.7 MB/s eta 0:00:14\n",
      "   ---------------- ----------------------- 16.0/39.0 MB 1.7 MB/s eta 0:00:14\n",
      "   ---------------- ----------------------- 16.3/39.0 MB 1.7 MB/s eta 0:00:14\n",
      "   ---------------- ----------------------- 16.5/39.0 MB 1.7 MB/s eta 0:00:14\n",
      "   ----------------- ---------------------- 16.8/39.0 MB 1.7 MB/s eta 0:00:14\n",
      "   ----------------- ---------------------- 17.3/39.0 MB 1.7 MB/s eta 0:00:13\n",
      "   ------------------ --------------------- 17.6/39.0 MB 1.7 MB/s eta 0:00:13\n",
      "   ------------------ --------------------- 18.1/39.0 MB 1.7 MB/s eta 0:00:13\n",
      "   ------------------ --------------------- 18.4/39.0 MB 1.7 MB/s eta 0:00:13\n",
      "   ------------------- -------------------- 18.9/39.0 MB 1.7 MB/s eta 0:00:12\n",
      "   ------------------- -------------------- 19.1/39.0 MB 1.7 MB/s eta 0:00:12\n",
      "   ------------------- -------------------- 19.4/39.0 MB 1.7 MB/s eta 0:00:12\n",
      "   -------------------- ------------------- 19.7/39.0 MB 1.7 MB/s eta 0:00:12\n",
      "   -------------------- ------------------- 19.7/39.0 MB 1.7 MB/s eta 0:00:12\n",
      "   -------------------- ------------------- 19.9/39.0 MB 1.7 MB/s eta 0:00:12\n",
      "   -------------------- ------------------- 20.2/39.0 MB 1.6 MB/s eta 0:00:12\n",
      "   -------------------- ------------------- 20.2/39.0 MB 1.6 MB/s eta 0:00:12\n",
      "   -------------------- ------------------- 20.4/39.0 MB 1.6 MB/s eta 0:00:12\n",
      "   -------------------- ------------------- 20.4/39.0 MB 1.6 MB/s eta 0:00:12\n",
      "   --------------------- ------------------ 20.7/39.0 MB 1.6 MB/s eta 0:00:12\n",
      "   --------------------- ------------------ 21.0/39.0 MB 1.6 MB/s eta 0:00:12\n",
      "   --------------------- ------------------ 21.2/39.0 MB 1.6 MB/s eta 0:00:12\n",
      "   --------------------- ------------------ 21.2/39.0 MB 1.6 MB/s eta 0:00:12\n",
      "   ---------------------- ----------------- 21.5/39.0 MB 1.6 MB/s eta 0:00:12\n",
      "   ---------------------- ----------------- 21.8/39.0 MB 1.5 MB/s eta 0:00:12\n",
      "   ---------------------- ----------------- 22.0/39.0 MB 1.5 MB/s eta 0:00:12\n",
      "   ---------------------- ----------------- 22.3/39.0 MB 1.5 MB/s eta 0:00:11\n",
      "   ----------------------- ---------------- 22.5/39.0 MB 1.5 MB/s eta 0:00:11\n",
      "   ----------------------- ---------------- 22.8/39.0 MB 1.5 MB/s eta 0:00:11\n",
      "   ----------------------- ---------------- 23.1/39.0 MB 1.5 MB/s eta 0:00:11\n",
      "   ------------------------ --------------- 23.6/39.0 MB 1.5 MB/s eta 0:00:11\n",
      "   ------------------------ --------------- 23.6/39.0 MB 1.5 MB/s eta 0:00:11\n",
      "   ------------------------ --------------- 23.9/39.0 MB 1.5 MB/s eta 0:00:10\n",
      "   ------------------------ --------------- 24.1/39.0 MB 1.5 MB/s eta 0:00:10\n",
      "   ------------------------ --------------- 24.1/39.0 MB 1.5 MB/s eta 0:00:10\n",
      "   ------------------------- -------------- 24.4/39.0 MB 1.5 MB/s eta 0:00:10\n",
      "   ------------------------- -------------- 24.6/39.0 MB 1.5 MB/s eta 0:00:10\n",
      "   ------------------------- -------------- 24.6/39.0 MB 1.5 MB/s eta 0:00:10\n",
      "   ------------------------- -------------- 24.9/39.0 MB 1.5 MB/s eta 0:00:10\n",
      "   ------------------------- -------------- 24.9/39.0 MB 1.5 MB/s eta 0:00:10\n",
      "   ------------------------- -------------- 24.9/39.0 MB 1.5 MB/s eta 0:00:10\n",
      "   ------------------------- -------------- 25.2/39.0 MB 1.4 MB/s eta 0:00:10\n",
      "   ------------------------- -------------- 25.2/39.0 MB 1.4 MB/s eta 0:00:10\n",
      "   -------------------------- ------------- 25.4/39.0 MB 1.4 MB/s eta 0:00:10\n",
      "   -------------------------- ------------- 25.4/39.0 MB 1.4 MB/s eta 0:00:10\n",
      "   -------------------------- ------------- 25.7/39.0 MB 1.4 MB/s eta 0:00:10\n",
      "   -------------------------- ------------- 25.7/39.0 MB 1.4 MB/s eta 0:00:10\n",
      "   -------------------------- ------------- 26.0/39.0 MB 1.4 MB/s eta 0:00:10\n",
      "   -------------------------- ------------- 26.0/39.0 MB 1.4 MB/s eta 0:00:10\n",
      "   -------------------------- ------------- 26.2/39.0 MB 1.4 MB/s eta 0:00:10\n",
      "   --------------------------- ------------ 26.5/39.0 MB 1.3 MB/s eta 0:00:10\n",
      "   --------------------------- ------------ 26.5/39.0 MB 1.3 MB/s eta 0:00:10\n",
      "   --------------------------- ------------ 26.7/39.0 MB 1.3 MB/s eta 0:00:10\n",
      "   --------------------------- ------------ 27.0/39.0 MB 1.3 MB/s eta 0:00:10\n",
      "   --------------------------- ------------ 27.0/39.0 MB 1.3 MB/s eta 0:00:10\n",
      "   --------------------------- ------------ 27.3/39.0 MB 1.3 MB/s eta 0:00:09\n",
      "   --------------------------- ------------ 27.3/39.0 MB 1.3 MB/s eta 0:00:09\n",
      "   ---------------------------- ----------- 27.5/39.0 MB 1.3 MB/s eta 0:00:09\n",
      "   ---------------------------- ----------- 27.8/39.0 MB 1.3 MB/s eta 0:00:09\n",
      "   ----------------------------- ---------- 28.3/39.0 MB 1.3 MB/s eta 0:00:09\n",
      "   ----------------------------- ---------- 28.6/39.0 MB 1.3 MB/s eta 0:00:08\n",
      "   ----------------------------- ---------- 28.8/39.0 MB 1.3 MB/s eta 0:00:08\n",
      "   ----------------------------- ---------- 29.1/39.0 MB 1.3 MB/s eta 0:00:08\n",
      "   ------------------------------ --------- 29.6/39.0 MB 1.3 MB/s eta 0:00:08\n",
      "   ------------------------------ --------- 29.9/39.0 MB 1.3 MB/s eta 0:00:07\n",
      "   ------------------------------- -------- 30.4/39.0 MB 1.3 MB/s eta 0:00:07\n",
      "   ------------------------------- -------- 30.7/39.0 MB 1.3 MB/s eta 0:00:07\n",
      "   ------------------------------- -------- 31.2/39.0 MB 1.3 MB/s eta 0:00:06\n",
      "   -------------------------------- ------- 31.7/39.0 MB 1.3 MB/s eta 0:00:06\n",
      "   -------------------------------- ------- 32.0/39.0 MB 1.4 MB/s eta 0:00:06\n",
      "   --------------------------------- ------ 32.5/39.0 MB 1.4 MB/s eta 0:00:05\n",
      "   --------------------------------- ------ 33.0/39.0 MB 1.4 MB/s eta 0:00:05\n",
      "   ---------------------------------- ----- 33.6/39.0 MB 1.4 MB/s eta 0:00:04\n",
      "   ---------------------------------- ----- 34.1/39.0 MB 1.4 MB/s eta 0:00:04\n",
      "   ----------------------------------- ---- 34.9/39.0 MB 1.4 MB/s eta 0:00:03\n",
      "   ------------------------------------ --- 35.4/39.0 MB 1.4 MB/s eta 0:00:03\n",
      "   ------------------------------------ --- 35.9/39.0 MB 1.4 MB/s eta 0:00:03\n",
      "   ------------------------------------- -- 36.4/39.0 MB 1.4 MB/s eta 0:00:02\n",
      "   ------------------------------------- -- 37.0/39.0 MB 1.4 MB/s eta 0:00:02\n",
      "   -------------------------------------- - 37.5/39.0 MB 1.4 MB/s eta 0:00:02\n",
      "   -------------------------------------- - 37.5/39.0 MB 1.4 MB/s eta 0:00:02\n",
      "   -------------------------------------- - 37.7/39.0 MB 1.4 MB/s eta 0:00:01\n",
      "   ---------------------------------------  38.5/39.0 MB 1.5 MB/s eta 0:00:01\n",
      "   ---------------------------------------  38.8/39.0 MB 1.5 MB/s eta 0:00:01\n",
      "   ---------------------------------------- 39.0/39.0 MB 1.5 MB/s eta 0:00:00\n",
      "Downloading numpy-2.2.6-cp312-cp312-win_amd64.whl (12.6 MB)\n",
      "   ---------------------------------------- 0.0/12.6 MB ? eta -:--:--\n",
      "   - -------------------------------------- 0.5/12.6 MB 2.8 MB/s eta 0:00:05\n",
      "   -- ------------------------------------- 0.8/12.6 MB 2.1 MB/s eta 0:00:06\n",
      "   ---- ----------------------------------- 1.3/12.6 MB 2.2 MB/s eta 0:00:06\n",
      "   ----- ---------------------------------- 1.8/12.6 MB 2.3 MB/s eta 0:00:05\n",
      "   -------- ------------------------------- 2.6/12.6 MB 2.5 MB/s eta 0:00:05\n",
      "   --------- ------------------------------ 2.9/12.6 MB 2.4 MB/s eta 0:00:05\n",
      "   ----------- ---------------------------- 3.7/12.6 MB 2.5 MB/s eta 0:00:04\n",
      "   ------------ --------------------------- 3.9/12.6 MB 2.4 MB/s eta 0:00:04\n",
      "   -------------- ------------------------- 4.5/12.6 MB 2.4 MB/s eta 0:00:04\n",
      "   --------------- ------------------------ 5.0/12.6 MB 2.4 MB/s eta 0:00:04\n",
      "   ----------------- ---------------------- 5.5/12.6 MB 2.4 MB/s eta 0:00:03\n",
      "   ------------------- -------------------- 6.0/12.6 MB 2.4 MB/s eta 0:00:03\n",
      "   -------------------- ------------------- 6.6/12.6 MB 2.4 MB/s eta 0:00:03\n",
      "   ---------------------- ----------------- 7.1/12.6 MB 2.4 MB/s eta 0:00:03\n",
      "   ------------------------ --------------- 7.9/12.6 MB 2.5 MB/s eta 0:00:02\n",
      "   -------------------------- ------------- 8.4/12.6 MB 2.5 MB/s eta 0:00:02\n",
      "   ---------------------------- ----------- 8.9/12.6 MB 2.5 MB/s eta 0:00:02\n",
      "   ----------------------------- ---------- 9.4/12.6 MB 2.5 MB/s eta 0:00:02\n",
      "   -------------------------------- ------- 10.2/12.6 MB 2.5 MB/s eta 0:00:01\n",
      "   ---------------------------------- ----- 10.7/12.6 MB 2.6 MB/s eta 0:00:01\n",
      "   ------------------------------------ --- 11.5/12.6 MB 2.6 MB/s eta 0:00:01\n",
      "   ---------------------------------------  12.3/12.6 MB 2.7 MB/s eta 0:00:01\n",
      "   ---------------------------------------- 12.6/12.6 MB 2.7 MB/s eta 0:00:00\n",
      "Downloading ultralytics_thop-2.0.14-py3-none-any.whl (26 kB)\n",
      "Downloading contourpy-1.3.3-cp312-cp312-win_amd64.whl (226 kB)\n",
      "Installing collected packages: numpy, opencv-python, contourpy, ultralytics-thop, ultralytics\n",
      "  Attempting uninstall: numpy\n",
      "    Found existing installation: numpy 1.26.4\n",
      "    Uninstalling numpy-1.26.4:\n",
      "      Successfully uninstalled numpy-1.26.4\n",
      "  Attempting uninstall: contourpy\n",
      "    Found existing installation: contourpy 1.2.0\n",
      "    Uninstalling contourpy-1.2.0:\n",
      "      Successfully uninstalled contourpy-1.2.0\n",
      "Successfully installed contourpy-1.3.3 numpy-2.2.6 opencv-python-4.12.0.88 ultralytics-8.3.173 ultralytics-thop-2.0.14\n",
      "Note: you may need to restart the kernel to use updated packages.\n"
     ]
    },
    {
     "name": "stderr",
     "output_type": "stream",
     "text": [
      "ERROR: pip's dependency resolver does not currently take into account all the packages that are installed. This behaviour is the source of the following dependency conflicts.\n",
      "gensim 4.3.3 requires numpy<2.0,>=1.18.5, but you have numpy 2.2.6 which is incompatible.\n",
      "numba 0.60.0 requires numpy<2.1,>=1.22, but you have numpy 2.2.6 which is incompatible.\n",
      "streamlit 1.37.1 requires pillow<11,>=7.1.0, but you have pillow 11.2.1 which is incompatible.\n",
      "streamlit 1.37.1 requires rich<14,>=10.14.0, but you have rich 14.0.0 which is incompatible.\n"
     ]
    }
   ],
   "source": [
    "%pip install ultralytics"
   ]
  },
  {
   "cell_type": "code",
   "execution_count": 6,
   "id": "affcbb4e",
   "metadata": {},
   "outputs": [
    {
     "name": "stdout",
     "output_type": "stream",
     "text": [
      "Collecting kaggle\n",
      "  Downloading kaggle-1.7.4.5-py3-none-any.whl.metadata (16 kB)\n",
      "Requirement already satisfied: bleach in c:\\users\\lenovo\\anaconda3\\lib\\site-packages (from kaggle) (4.1.0)\n",
      "Requirement already satisfied: certifi>=14.05.14 in c:\\users\\lenovo\\anaconda3\\lib\\site-packages (from kaggle) (2025.1.31)\n",
      "Requirement already satisfied: charset-normalizer in c:\\users\\lenovo\\anaconda3\\lib\\site-packages (from kaggle) (3.3.2)\n",
      "Requirement already satisfied: idna in c:\\users\\lenovo\\anaconda3\\lib\\site-packages (from kaggle) (3.7)\n",
      "Requirement already satisfied: protobuf in c:\\users\\lenovo\\anaconda3\\lib\\site-packages (from kaggle) (5.29.3)\n",
      "Requirement already satisfied: python-dateutil>=2.5.3 in c:\\users\\lenovo\\anaconda3\\lib\\site-packages (from kaggle) (2.9.0.post0)\n",
      "Requirement already satisfied: python-slugify in c:\\users\\lenovo\\anaconda3\\lib\\site-packages (from kaggle) (5.0.2)\n",
      "Requirement already satisfied: requests in c:\\users\\lenovo\\anaconda3\\lib\\site-packages (from kaggle) (2.32.3)\n",
      "Requirement already satisfied: setuptools>=21.0.0 in c:\\users\\lenovo\\anaconda3\\lib\\site-packages (from kaggle) (75.1.0)\n",
      "Requirement already satisfied: six>=1.10 in c:\\users\\lenovo\\anaconda3\\lib\\site-packages (from kaggle) (1.16.0)\n",
      "Requirement already satisfied: text-unidecode in c:\\users\\lenovo\\anaconda3\\lib\\site-packages (from kaggle) (1.3)\n",
      "Requirement already satisfied: tqdm in c:\\users\\lenovo\\anaconda3\\lib\\site-packages (from kaggle) (4.66.5)\n",
      "Requirement already satisfied: urllib3>=1.15.1 in c:\\users\\lenovo\\anaconda3\\lib\\site-packages (from kaggle) (2.2.3)\n",
      "Requirement already satisfied: webencodings in c:\\users\\lenovo\\anaconda3\\lib\\site-packages (from kaggle) (0.5.1)\n",
      "Requirement already satisfied: packaging in c:\\users\\lenovo\\anaconda3\\lib\\site-packages (from bleach->kaggle) (24.1)\n",
      "Requirement already satisfied: colorama in c:\\users\\lenovo\\anaconda3\\lib\\site-packages (from tqdm->kaggle) (0.4.6)\n",
      "Downloading kaggle-1.7.4.5-py3-none-any.whl (181 kB)\n",
      "Installing collected packages: kaggle\n",
      "Successfully installed kaggle-1.7.4.5\n",
      "Note: you may need to restart the kernel to use updated packages.\n"
     ]
    }
   ],
   "source": [
    "pip install kaggle"
   ]
  },
  {
   "cell_type": "code",
   "execution_count": 5,
   "id": "41635165",
   "metadata": {},
   "outputs": [
    {
     "name": "stdout",
     "output_type": "stream",
     "text": [
      "Collecting numpy<2.0\n",
      "  Downloading numpy-1.26.4-cp312-cp312-win_amd64.whl.metadata (61 kB)\n",
      "Downloading numpy-1.26.4-cp312-cp312-win_amd64.whl (15.5 MB)\n",
      "   ---------------------------------------- 0.0/15.5 MB ? eta -:--:--\n",
      "   - -------------------------------------- 0.5/15.5 MB 4.2 MB/s eta 0:00:04\n",
      "   -- ------------------------------------- 1.0/15.5 MB 2.8 MB/s eta 0:00:06\n",
      "   ------ --------------------------------- 2.4/15.5 MB 4.3 MB/s eta 0:00:04\n",
      "   ---------- ----------------------------- 4.2/15.5 MB 5.2 MB/s eta 0:00:03\n",
      "   -------------- ------------------------- 5.8/15.5 MB 5.7 MB/s eta 0:00:02\n",
      "   ------------------ --------------------- 7.1/15.5 MB 5.9 MB/s eta 0:00:02\n",
      "   -------------------- ------------------- 8.1/15.5 MB 5.9 MB/s eta 0:00:02\n",
      "   ------------------------ --------------- 9.4/15.5 MB 5.7 MB/s eta 0:00:02\n",
      "   -------------------------- ------------- 10.2/15.5 MB 5.5 MB/s eta 0:00:01\n",
      "   ----------------------------- ---------- 11.3/15.5 MB 5.5 MB/s eta 0:00:01\n",
      "   -------------------------------- ------- 12.6/15.5 MB 5.5 MB/s eta 0:00:01\n",
      "   ----------------------------------- ---- 13.9/15.5 MB 5.6 MB/s eta 0:00:01\n",
      "   ---------------------------------------  15.5/15.5 MB 5.7 MB/s eta 0:00:01\n",
      "   ---------------------------------------- 15.5/15.5 MB 5.5 MB/s eta 0:00:00\n",
      "Installing collected packages: numpy\n",
      "  Attempting uninstall: numpy\n",
      "    Found existing installation: numpy 2.2.6\n",
      "    Uninstalling numpy-2.2.6:\n",
      "      Successfully uninstalled numpy-2.2.6\n",
      "Successfully installed numpy-1.26.4\n",
      "Note: you may need to restart the kernel to use updated packages.\n"
     ]
    },
    {
     "name": "stderr",
     "output_type": "stream",
     "text": [
      "  WARNING: Failed to remove contents in a temporary directory 'C:\\Users\\LENOVO\\anaconda3\\Lib\\site-packages\\~umpy.libs'.\n",
      "  You can safely remove it manually.\n",
      "  WARNING: Failed to remove contents in a temporary directory 'C:\\Users\\LENOVO\\anaconda3\\Lib\\site-packages\\~umpy'.\n",
      "  You can safely remove it manually.\n",
      "ERROR: pip's dependency resolver does not currently take into account all the packages that are installed. This behaviour is the source of the following dependency conflicts.\n",
      "opencv-python 4.12.0.88 requires numpy<2.3.0,>=2; python_version >= \"3.9\", but you have numpy 1.26.4 which is incompatible.\n",
      "streamlit 1.37.1 requires pillow<11,>=7.1.0, but you have pillow 11.2.1 which is incompatible.\n",
      "streamlit 1.37.1 requires rich<14,>=10.14.0, but you have rich 14.0.0 which is incompatible.\n"
     ]
    }
   ],
   "source": [
    "pip install \"numpy<2.0\""
   ]
  },
  {
   "cell_type": "code",
   "execution_count": 37,
   "id": "b7714dff",
   "metadata": {},
   "outputs": [
    {
     "name": "stdout",
     "output_type": "stream",
     "text": [
      "Requirement already satisfied: gradio in c:\\users\\lenovo\\anaconda3\\lib\\site-packages (5.20.0)\n",
      "Requirement already satisfied: aiofiles<24.0,>=22.0 in c:\\users\\lenovo\\anaconda3\\lib\\site-packages (from gradio) (23.2.1)\n",
      "Requirement already satisfied: anyio<5.0,>=3.0 in c:\\users\\lenovo\\anaconda3\\lib\\site-packages (from gradio) (4.2.0)\n",
      "Requirement already satisfied: fastapi<1.0,>=0.115.2 in c:\\users\\lenovo\\anaconda3\\lib\\site-packages (from gradio) (0.115.10)\n",
      "Requirement already satisfied: ffmpy in c:\\users\\lenovo\\anaconda3\\lib\\site-packages (from gradio) (0.5.0)\n",
      "Requirement already satisfied: gradio-client==1.7.2 in c:\\users\\lenovo\\anaconda3\\lib\\site-packages (from gradio) (1.7.2)\n",
      "Requirement already satisfied: groovy~=0.1 in c:\\users\\lenovo\\anaconda3\\lib\\site-packages (from gradio) (0.1.2)\n",
      "Requirement already satisfied: httpx>=0.24.1 in c:\\users\\lenovo\\anaconda3\\lib\\site-packages (from gradio) (0.27.0)\n",
      "Requirement already satisfied: huggingface-hub>=0.28.1 in c:\\users\\lenovo\\anaconda3\\lib\\site-packages (from gradio) (0.29.1)\n",
      "Requirement already satisfied: jinja2<4.0 in c:\\users\\lenovo\\anaconda3\\lib\\site-packages (from gradio) (3.1.4)\n",
      "Requirement already satisfied: markupsafe~=2.0 in c:\\users\\lenovo\\anaconda3\\lib\\site-packages (from gradio) (2.1.3)\n",
      "Requirement already satisfied: numpy<3.0,>=1.0 in c:\\users\\lenovo\\anaconda3\\lib\\site-packages (from gradio) (1.26.4)\n",
      "Requirement already satisfied: orjson~=3.0 in c:\\users\\lenovo\\anaconda3\\lib\\site-packages (from gradio) (3.10.15)\n",
      "Requirement already satisfied: packaging in c:\\users\\lenovo\\anaconda3\\lib\\site-packages (from gradio) (24.1)\n",
      "Requirement already satisfied: pandas<3.0,>=1.0 in c:\\users\\lenovo\\anaconda3\\lib\\site-packages (from gradio) (2.2.2)\n",
      "Requirement already satisfied: pillow<12.0,>=8.0 in c:\\users\\lenovo\\anaconda3\\lib\\site-packages (from gradio) (11.2.1)\n",
      "Requirement already satisfied: pydantic>=2.0 in c:\\users\\lenovo\\anaconda3\\lib\\site-packages (from gradio) (2.10.6)\n",
      "Requirement already satisfied: pydub in c:\\users\\lenovo\\anaconda3\\lib\\site-packages (from gradio) (0.25.1)\n",
      "Requirement already satisfied: python-multipart>=0.0.18 in c:\\users\\lenovo\\anaconda3\\lib\\site-packages (from gradio) (0.0.20)\n",
      "Requirement already satisfied: pyyaml<7.0,>=5.0 in c:\\users\\lenovo\\anaconda3\\lib\\site-packages (from gradio) (6.0.1)\n",
      "Requirement already satisfied: ruff>=0.9.3 in c:\\users\\lenovo\\anaconda3\\lib\\site-packages (from gradio) (0.9.9)\n",
      "Requirement already satisfied: safehttpx<0.2.0,>=0.1.6 in c:\\users\\lenovo\\anaconda3\\lib\\site-packages (from gradio) (0.1.6)\n",
      "Requirement already satisfied: semantic-version~=2.0 in c:\\users\\lenovo\\anaconda3\\lib\\site-packages (from gradio) (2.10.0)\n",
      "Requirement already satisfied: starlette<1.0,>=0.40.0 in c:\\users\\lenovo\\anaconda3\\lib\\site-packages (from gradio) (0.46.0)\n",
      "Requirement already satisfied: tomlkit<0.14.0,>=0.12.0 in c:\\users\\lenovo\\anaconda3\\lib\\site-packages (from gradio) (0.13.2)\n",
      "Requirement already satisfied: typer<1.0,>=0.12 in c:\\users\\lenovo\\anaconda3\\lib\\site-packages (from gradio) (0.15.2)\n",
      "Requirement already satisfied: typing-extensions~=4.0 in c:\\users\\lenovo\\anaconda3\\lib\\site-packages (from gradio) (4.12.2)\n",
      "Requirement already satisfied: uvicorn>=0.14.0 in c:\\users\\lenovo\\anaconda3\\lib\\site-packages (from gradio) (0.34.0)\n",
      "Requirement already satisfied: fsspec in c:\\users\\lenovo\\anaconda3\\lib\\site-packages (from gradio-client==1.7.2->gradio) (2024.6.1)\n",
      "Requirement already satisfied: websockets<16.0,>=10.0 in c:\\users\\lenovo\\anaconda3\\lib\\site-packages (from gradio-client==1.7.2->gradio) (15.0)\n",
      "Requirement already satisfied: idna>=2.8 in c:\\users\\lenovo\\anaconda3\\lib\\site-packages (from anyio<5.0,>=3.0->gradio) (3.7)\n",
      "Requirement already satisfied: sniffio>=1.1 in c:\\users\\lenovo\\anaconda3\\lib\\site-packages (from anyio<5.0,>=3.0->gradio) (1.3.0)\n",
      "Requirement already satisfied: certifi in c:\\users\\lenovo\\anaconda3\\lib\\site-packages (from httpx>=0.24.1->gradio) (2025.1.31)\n",
      "Requirement already satisfied: httpcore==1.* in c:\\users\\lenovo\\anaconda3\\lib\\site-packages (from httpx>=0.24.1->gradio) (1.0.2)\n",
      "Requirement already satisfied: h11<0.15,>=0.13 in c:\\users\\lenovo\\anaconda3\\lib\\site-packages (from httpcore==1.*->httpx>=0.24.1->gradio) (0.14.0)\n",
      "Requirement already satisfied: filelock in c:\\users\\lenovo\\anaconda3\\lib\\site-packages (from huggingface-hub>=0.28.1->gradio) (3.13.1)\n",
      "Requirement already satisfied: requests in c:\\users\\lenovo\\anaconda3\\lib\\site-packages (from huggingface-hub>=0.28.1->gradio) (2.32.3)\n",
      "Requirement already satisfied: tqdm>=4.42.1 in c:\\users\\lenovo\\anaconda3\\lib\\site-packages (from huggingface-hub>=0.28.1->gradio) (4.66.5)\n",
      "Requirement already satisfied: python-dateutil>=2.8.2 in c:\\users\\lenovo\\anaconda3\\lib\\site-packages (from pandas<3.0,>=1.0->gradio) (2.9.0.post0)\n",
      "Requirement already satisfied: pytz>=2020.1 in c:\\users\\lenovo\\anaconda3\\lib\\site-packages (from pandas<3.0,>=1.0->gradio) (2024.1)\n",
      "Requirement already satisfied: tzdata>=2022.7 in c:\\users\\lenovo\\anaconda3\\lib\\site-packages (from pandas<3.0,>=1.0->gradio) (2023.3)\n",
      "Requirement already satisfied: annotated-types>=0.6.0 in c:\\users\\lenovo\\anaconda3\\lib\\site-packages (from pydantic>=2.0->gradio) (0.6.0)\n",
      "Requirement already satisfied: pydantic-core==2.27.2 in c:\\users\\lenovo\\anaconda3\\lib\\site-packages (from pydantic>=2.0->gradio) (2.27.2)\n",
      "Requirement already satisfied: click>=8.0.0 in c:\\users\\lenovo\\anaconda3\\lib\\site-packages (from typer<1.0,>=0.12->gradio) (8.1.7)\n",
      "Requirement already satisfied: shellingham>=1.3.0 in c:\\users\\lenovo\\anaconda3\\lib\\site-packages (from typer<1.0,>=0.12->gradio) (1.5.0)\n",
      "Requirement already satisfied: rich>=10.11.0 in c:\\users\\lenovo\\anaconda3\\lib\\site-packages (from typer<1.0,>=0.12->gradio) (14.0.0)\n",
      "Requirement already satisfied: colorama in c:\\users\\lenovo\\anaconda3\\lib\\site-packages (from click>=8.0.0->typer<1.0,>=0.12->gradio) (0.4.6)\n",
      "Requirement already satisfied: six>=1.5 in c:\\users\\lenovo\\anaconda3\\lib\\site-packages (from python-dateutil>=2.8.2->pandas<3.0,>=1.0->gradio) (1.16.0)\n",
      "Requirement already satisfied: markdown-it-py>=2.2.0 in c:\\users\\lenovo\\anaconda3\\lib\\site-packages (from rich>=10.11.0->typer<1.0,>=0.12->gradio) (2.2.0)\n",
      "Requirement already satisfied: pygments<3.0.0,>=2.13.0 in c:\\users\\lenovo\\anaconda3\\lib\\site-packages (from rich>=10.11.0->typer<1.0,>=0.12->gradio) (2.15.1)\n",
      "Requirement already satisfied: charset-normalizer<4,>=2 in c:\\users\\lenovo\\anaconda3\\lib\\site-packages (from requests->huggingface-hub>=0.28.1->gradio) (3.3.2)\n",
      "Requirement already satisfied: urllib3<3,>=1.21.1 in c:\\users\\lenovo\\anaconda3\\lib\\site-packages (from requests->huggingface-hub>=0.28.1->gradio) (2.2.3)\n",
      "Requirement already satisfied: mdurl~=0.1 in c:\\users\\lenovo\\anaconda3\\lib\\site-packages (from markdown-it-py>=2.2.0->rich>=10.11.0->typer<1.0,>=0.12->gradio) (0.1.0)\n",
      "Note: you may need to restart the kernel to use updated packages.\n"
     ]
    }
   ],
   "source": [
    "pip install gradio"
   ]
  },
  {
   "cell_type": "markdown",
   "id": "11d5af02",
   "metadata": {},
   "source": [
    "# Importation du packages"
   ]
  },
  {
   "cell_type": "code",
   "execution_count": 1,
   "id": "35d4b62c",
   "metadata": {},
   "outputs": [],
   "source": [
    "from ultralytics import YOLO\n",
    "import cv2\n",
    "import matplotlib.pyplot as plt"
   ]
  },
  {
   "cell_type": "markdown",
   "id": "d0828d92",
   "metadata": {},
   "source": [
    "# Télécharger le dataset PlantVillage"
   ]
  },
  {
   "cell_type": "code",
   "execution_count": 10,
   "id": "0aee4b37",
   "metadata": {},
   "outputs": [],
   "source": [
    "import os\n",
    "\n",
    "# Remplace ce chemin par le tien\n",
    "os.environ['KAGGLE_CONFIG_DIR'] = r\".\""
   ]
  },
  {
   "cell_type": "code",
   "execution_count": 11,
   "id": "4aa1421a",
   "metadata": {},
   "outputs": [
    {
     "data": {
      "text/plain": [
       "0"
      ]
     },
     "execution_count": 11,
     "metadata": {},
     "output_type": "execute_result"
    }
   ],
   "source": [
    "# Téléchargement du dataset\n",
    "os.system('kaggle datasets download -d sebastianpalaciob/plantvillage-for-object-detection-yolo')"
   ]
  },
  {
   "cell_type": "code",
   "execution_count": 2,
   "id": "d7501140",
   "metadata": {},
   "outputs": [
    {
     "ename": "NameError",
     "evalue": "name 'os' is not defined",
     "output_type": "error",
     "traceback": [
      "\u001b[1;31m---------------------------------------------------------------------------\u001b[0m",
      "\u001b[1;31mNameError\u001b[0m                                 Traceback (most recent call last)",
      "Cell \u001b[1;32mIn[2], line 5\u001b[0m\n\u001b[0;32m      1\u001b[0m \u001b[38;5;28;01mimport\u001b[39;00m \u001b[38;5;21;01mzipfile\u001b[39;00m\n\u001b[0;32m      3\u001b[0m zip_path \u001b[38;5;241m=\u001b[39m \u001b[38;5;124m\"\u001b[39m\u001b[38;5;124mplantvillage-for-object-detection-yolo.zip\u001b[39m\u001b[38;5;124m\"\u001b[39m\n\u001b[1;32m----> 5\u001b[0m \u001b[38;5;28;01mif\u001b[39;00m os\u001b[38;5;241m.\u001b[39mpath\u001b[38;5;241m.\u001b[39mexists(zip_path):\n\u001b[0;32m      6\u001b[0m     \u001b[38;5;28;01mwith\u001b[39;00m zipfile\u001b[38;5;241m.\u001b[39mZipFile(zip_path, \u001b[38;5;124m'\u001b[39m\u001b[38;5;124mr\u001b[39m\u001b[38;5;124m'\u001b[39m) \u001b[38;5;28;01mas\u001b[39;00m zip_ref:\n\u001b[0;32m      7\u001b[0m         zip_ref\u001b[38;5;241m.\u001b[39mextractall(\u001b[38;5;124m\"\u001b[39m\u001b[38;5;124mplantvillage_dataset\u001b[39m\u001b[38;5;124m\"\u001b[39m)\n",
      "\u001b[1;31mNameError\u001b[0m: name 'os' is not defined"
     ]
    }
   ],
   "source": [
    "import zipfile\n",
    "\n",
    "zip_path = \"plantvillage-for-object-detection-yolo.zip\"\n",
    "\n",
    "if os.path.exists(zip_path):\n",
    "    with zipfile.ZipFile(zip_path, 'r') as zip_ref:\n",
    "        zip_ref.extractall(\"plantvillage_dataset\")\n",
    "    print(\"✅ Dataset extrait avec succès !\")\n",
    "else:\n",
    "    print(\"❌ Le fichier ZIP n'existe pas. Vérifie le téléchargement.\")"
   ]
  },
  {
   "cell_type": "markdown",
   "id": "592b9445",
   "metadata": {},
   "source": [
    "# Charger le model"
   ]
  },
  {
   "cell_type": "code",
   "execution_count": 2,
   "id": "aa6d96d8",
   "metadata": {},
   "outputs": [],
   "source": [
    "# Charger le modèle entraîné\n",
    "model = YOLO('./best_v8.pt')  # Le chemin peut changer selon le nom du dossier"
   ]
  },
  {
   "cell_type": "code",
   "execution_count": 3,
   "id": "1c74b902",
   "metadata": {},
   "outputs": [
    {
     "name": "stdout",
     "output_type": "stream",
     "text": [
      "\n",
      "image 1/1 C:\\Users\\LENOVO\\Documents\\Groupe OMF\\FSBM\\Image Classification\\Deploimenet avec Gradio\\plantvillage_dataset\\PlantVillage_for_object_detection\\Dataset\\images\\APAS_image (1).jpg: 640x640 1 0, 484.1ms\n",
      "Speed: 22.1ms preprocess, 484.1ms inference, 17.3ms postprocess per image at shape (1, 3, 640, 640)\n"
     ]
    }
   ],
   "source": [
    "# Image à tester (change ce chemin selon ton image)\n",
    "image_path = 'C:/Users/LENOVO/Documents/Groupe OMF/FSBM/Image Classification/Deploimenet avec Gradio/plantvillage_dataset/PlantVillage_for_object_detection/Dataset/images/APAS_image (1).jpg'\n",
    "# labell_path = 'C:\\Users\\LENOVO\\Documents\\Groupe OMF\\FSBM\\Image Classification\\Deploimenet avec Gradio\\plantvillage_dataset\\PlantVillage_for_object_detection\\Dataset\\labels\\APAS_image (1).txt'\n",
    "\n",
    "# Faire une prédiction\n",
    "results = model(image_path)"
   ]
  },
  {
   "cell_type": "code",
   "execution_count": 4,
   "id": "bcc6e134",
   "metadata": {},
   "outputs": [
    {
     "data": {
      "text/plain": [
       "[ultralytics.engine.results.Results object with attributes:\n",
       " \n",
       " boxes: ultralytics.engine.results.Boxes object\n",
       " keypoints: None\n",
       " masks: None\n",
       " names: {0: '0', 1: '1', 2: '2', 3: '3', 4: '4', 5: '5', 6: '6', 7: '7', 8: '8', 9: '9', 10: '10', 11: '11', 12: '12', 13: '13', 14: '14', 15: '15', 16: '16', 17: '17', 18: '18', 19: '19', 20: '20', 21: '21', 22: '22', 23: '23', 24: '24', 25: '25', 26: '26', 27: '27', 28: '28', 29: '29', 30: '30', 31: '31', 32: '32', 33: '33', 34: '34', 35: '35', 36: '36', 37: '37'}\n",
       " obb: None\n",
       " orig_img: array([[[152, 148, 160],\n",
       "         [153, 149, 161],\n",
       "         [153, 149, 161],\n",
       "         ...,\n",
       "         [130, 129, 145],\n",
       "         [127, 126, 142],\n",
       "         [125, 124, 140]],\n",
       " \n",
       "        [[152, 148, 160],\n",
       "         [152, 148, 160],\n",
       "         [152, 148, 160],\n",
       "         ...,\n",
       "         [126, 125, 141],\n",
       "         [124, 123, 139],\n",
       "         [123, 122, 138]],\n",
       " \n",
       "        [[154, 150, 162],\n",
       "         [153, 149, 161],\n",
       "         [152, 148, 160],\n",
       "         ...,\n",
       "         [126, 125, 141],\n",
       "         [127, 126, 142],\n",
       "         [127, 126, 142]],\n",
       " \n",
       "        ...,\n",
       " \n",
       "        [[151, 144, 151],\n",
       "         [150, 143, 150],\n",
       "         [148, 141, 148],\n",
       "         ...,\n",
       "         [ 83,  84,  94],\n",
       "         [ 81,  82,  92],\n",
       "         [ 81,  82,  92]],\n",
       " \n",
       "        [[148, 141, 148],\n",
       "         [147, 140, 147],\n",
       "         [147, 140, 147],\n",
       "         ...,\n",
       "         [ 82,  83,  93],\n",
       "         [ 81,  82,  92],\n",
       "         [ 80,  81,  91]],\n",
       " \n",
       "        [[144, 137, 144],\n",
       "         [144, 137, 144],\n",
       "         [145, 138, 145],\n",
       "         ...,\n",
       "         [ 82,  83,  93],\n",
       "         [ 81,  82,  92],\n",
       "         [ 80,  81,  91]]], dtype=uint8)\n",
       " orig_shape: (256, 256)\n",
       " path: 'C:\\\\Users\\\\LENOVO\\\\Documents\\\\Groupe OMF\\\\FSBM\\\\Image Classification\\\\Deploimenet avec Gradio\\\\plantvillage_dataset\\\\PlantVillage_for_object_detection\\\\Dataset\\\\images\\\\APAS_image (1).jpg'\n",
       " probs: None\n",
       " save_dir: 'runs\\\\detect\\\\predict'\n",
       " speed: {'preprocess': 22.055299999919953, 'inference': 484.05300000013085, 'postprocess': 17.30330000009417}]"
      ]
     },
     "execution_count": 4,
     "metadata": {},
     "output_type": "execute_result"
    }
   ],
   "source": [
    "results"
   ]
  },
  {
   "cell_type": "code",
   "execution_count": 5,
   "id": "965a90ad",
   "metadata": {},
   "outputs": [],
   "source": [
    "# Afficher l’image avec les détections\n",
    "results[0].show()"
   ]
  },
  {
   "cell_type": "code",
   "execution_count": 25,
   "id": "4ddf5a3d",
   "metadata": {},
   "outputs": [],
   "source": [
    "# # Ou en matplotlib si tu veux personnaliser\n",
    "# img = cv2.imread(image_path)\n",
    "# img = cv2.cvtColor(img, cv2.COLOR_BGR2RGB)\n",
    "# plt.imshow(img)\n",
    "# plt.axis('off')\n",
    "# plt.title(\"Image testée\")\n",
    "# plt.show()"
   ]
  },
  {
   "cell_type": "code",
   "execution_count": 6,
   "id": "581eaf49",
   "metadata": {},
   "outputs": [],
   "source": [
    "# Liste des noms (indexés de 0 à 37)\n",
    "disease_names = [\n",
    "    \"Apple___Apple_scab\",\n",
    "    \"Apple___Black_rot\",\n",
    "    \"Apple___Cedar_apple_rust\",\n",
    "    \"Apple___healthy\",\n",
    "    \"Blueberry___healthy\",\n",
    "    \"Cherry___Powdery_mildew\",\n",
    "    \"Cherry___healthy\",\n",
    "    \"Corn___Cercospora_leaf_spot Gray_leaf_spot\",\n",
    "    \"Corn___Common_rust\",\n",
    "    \"Corn___Northern_Leaf_Blight\",\n",
    "    \"Corn___healthy\",\n",
    "    \"Grape___Black_rot\",\n",
    "    \"Grape___Esca_(Black_Measles)\",\n",
    "    \"Grape___Leaf_blight_(Isariopsis_Leaf_Spot)\",\n",
    "    \"Grape___healthy\",\n",
    "    \"Orange___Haunglongbing_(Citrus_greening)\",\n",
    "    \"Peach___Bacterial_spot\",\n",
    "    \"Peach___healthy\",\n",
    "    \"Pepper,_bell___Bacterial_spot\",\n",
    "    \"Pepper,_bell___healthy\",\n",
    "    \"Potato___Early_blight\",\n",
    "    \"Potato___Late_blight\",\n",
    "    \"Potato___healthy\",\n",
    "    \"Raspberry___healthy\",\n",
    "    \"Soybean___healthy\",\n",
    "    \"Squash___Powdery_mildew\",\n",
    "    \"Strawberry___Leaf_scorch\",\n",
    "    \"Strawberry___healthy\",\n",
    "    \"Tomato___Bacterial_spot\",\n",
    "    \"Tomato___Early_blight\",\n",
    "    \"Tomato___Late_blight\",\n",
    "    \"Tomato___Leaf_Mold\",\n",
    "    \"Tomato___Septoria_leaf_spot\",\n",
    "    \"Tomato___Spider_mites Two-spotted_spider_mite\",\n",
    "    \"Tomato___Target_Spot\",\n",
    "    \"Tomato___Tomato_Yellow_Leaf_Curl_Virus\",\n",
    "    \"Tomato___Tomato_mosaic_virus\",\n",
    "    \"Tomato___healthy\"\n",
    "]"
   ]
  },
  {
   "cell_type": "code",
   "execution_count": 23,
   "id": "a8aa67bf",
   "metadata": {},
   "outputs": [],
   "source": [
    "# # Affichage personnalisé avec noms\n",
    "# for box in results[0].boxes:\n",
    "#     cls_id = int(box.cls[0].item())\n",
    "#     conf = box.conf[0].item()\n",
    "#     print(f\"🟢 Maladie détectée : {disease_names[cls_id]} ({cls_id}) avec {conf*100:.2f}% de confiance\")\n",
    "#     print('------------------------ \\n')"
   ]
  },
  {
   "cell_type": "code",
   "execution_count": 7,
   "id": "769f1cb7",
   "metadata": {},
   "outputs": [
    {
     "name": "stdout",
     "output_type": "stream",
     "text": [
      "🟢 Maladie détectée : Apple___Apple_scab (0) avec 97.77% de confiance\n"
     ]
    }
   ],
   "source": [
    "# Affichage personnalisé avec noms\n",
    "cls_id = int(results[0].boxes.cls[0].item())\n",
    "conf = results[0].boxes.conf[0].item()\n",
    "\n",
    "print(f\"🟢 Maladie détectée : {disease_names[cls_id]} ({cls_id}) avec {conf*100:.2f}% de confiance\")"
   ]
  },
  {
   "cell_type": "markdown",
   "id": "0e40b843",
   "metadata": {},
   "source": [
    "# Main Fonction"
   ]
  },
  {
   "cell_type": "code",
   "execution_count": 8,
   "id": "4f6d013e",
   "metadata": {},
   "outputs": [],
   "source": [
    "# Liste des noms (indexés de 0 à 37)\n",
    "disease_names = [\n",
    "    \"Apple___Apple_scab\",\n",
    "    \"Apple___Black_rot\",\n",
    "    \"Apple___Cedar_apple_rust\",\n",
    "    \"Apple___healthy\",\n",
    "    \"Blueberry___healthy\",\n",
    "    \"Cherry___Powdery_mildew\",\n",
    "    \"Cherry___healthy\",\n",
    "    \"Corn___Cercospora_leaf_spot Gray_leaf_spot\",\n",
    "    \"Corn___Common_rust\",\n",
    "    \"Corn___Northern_Leaf_Blight\",\n",
    "    \"Corn___healthy\",\n",
    "    \"Grape___Black_rot\",\n",
    "    \"Grape___Esca_(Black_Measles)\",\n",
    "    \"Grape___Leaf_blight_(Isariopsis_Leaf_Spot)\",\n",
    "    \"Grape___healthy\",\n",
    "    \"Orange___Haunglongbing_(Citrus_greening)\",\n",
    "    \"Peach___Bacterial_spot\",\n",
    "    \"Peach___healthy\",\n",
    "    \"Pepper,_bell___Bacterial_spot\",\n",
    "    \"Pepper,_bell___healthy\",\n",
    "    \"Potato___Early_blight\",\n",
    "    \"Potato___Late_blight\",\n",
    "    \"Potato___healthy\",\n",
    "    \"Raspberry___healthy\",\n",
    "    \"Soybean___healthy\",\n",
    "    \"Squash___Powdery_mildew\",\n",
    "    \"Strawberry___Leaf_scorch\",\n",
    "    \"Strawberry___healthy\",\n",
    "    \"Tomato___Bacterial_spot\",\n",
    "    \"Tomato___Early_blight\",\n",
    "    \"Tomato___Late_blight\",\n",
    "    \"Tomato___Leaf_Mold\",\n",
    "    \"Tomato___Septoria_leaf_spot\",\n",
    "    \"Tomato___Spider_mites Two-spotted_spider_mite\",\n",
    "    \"Tomato___Target_Spot\",\n",
    "    \"Tomato___Tomato_Yellow_Leaf_Curl_Virus\",\n",
    "    \"Tomato___Tomato_mosaic_virus\",\n",
    "    \"Tomato___healthy\"\n",
    "]"
   ]
  },
  {
   "cell_type": "code",
   "execution_count": 9,
   "id": "070d575f",
   "metadata": {},
   "outputs": [],
   "source": [
    "# Charger le modèle entraîné\n",
    "model = YOLO('./best_v8.pt')  # Le chemin peut changer selon le nom du dossier"
   ]
  },
  {
   "cell_type": "code",
   "execution_count": 10,
   "id": "1db0178c",
   "metadata": {},
   "outputs": [],
   "source": [
    "def Yolov9_Classification(image_path):\n",
    "    # Faire une prédiction\n",
    "    results = model(image_path)\n",
    "\n",
    "    # Affichage personnalisé avec noms\n",
    "    cls_id = int(results[0].boxes.cls[0].item())\n",
    "    conf = results[0].boxes.conf[0].item()\n",
    "\n",
    "    return disease_names[cls_id]"
   ]
  },
  {
   "cell_type": "code",
   "execution_count": 11,
   "id": "bf233e04",
   "metadata": {},
   "outputs": [
    {
     "name": "stdout",
     "output_type": "stream",
     "text": [
      "\n",
      "image 1/1 C:\\Users\\LENOVO\\Documents\\Groupe OMF\\FSBM\\Image Classification\\Deploimenet avec Gradio\\plantvillage_dataset\\PlantVillage_for_object_detection\\Dataset\\images\\TMTS_image (220).jpg: 640x640 1 34, 428.4ms\n",
      "Speed: 9.8ms preprocess, 428.4ms inference, 2.0ms postprocess per image at shape (1, 3, 640, 640)\n"
     ]
    }
   ],
   "source": [
    "# image_path = 'C:/Users/LENOVO/Documents/Groupe OMF/FSBM/Image Classification/Deploimenet avec Gradio/plantvillage_dataset/PlantVillage_for_object_detection/Dataset/images/APBR_image (55).jpg'\n",
    "image_path = \"C:/Users/LENOVO/Documents/Groupe OMF/FSBM/Image Classification/Deploimenet avec Gradio/plantvillage_dataset/PlantVillage_for_object_detection/Dataset/images/TMTS_image (220).jpg\"\n",
    "img_class = Yolov9_Classification(image_path)"
   ]
  },
  {
   "cell_type": "code",
   "execution_count": 12,
   "id": "e2125d63",
   "metadata": {},
   "outputs": [
    {
     "name": "stdout",
     "output_type": "stream",
     "text": [
      "Tomato___Target_Spot\n"
     ]
    }
   ],
   "source": [
    "print(img_class)"
   ]
  },
  {
   "cell_type": "markdown",
   "id": "0c2ed981",
   "metadata": {},
   "source": [
    "# Deploiment avec l'interface Gradio"
   ]
  },
  {
   "cell_type": "code",
   "execution_count": 40,
   "id": "9e3e7871",
   "metadata": {},
   "outputs": [],
   "source": [
    "# import gradio as gr\n",
    "# from ultralytics import YOLO\n",
    "# import torch\n",
    "\n",
    "# # Liste des noms de maladies\n",
    "# disease_names = [\n",
    "#     \"Apple___Apple_scab\",\n",
    "#     \"Apple___Black_rot\",\n",
    "#     \"Apple___Cedar_apple_rust\",\n",
    "#     \"Apple___healthy\",\n",
    "#     \"Blueberry___healthy\",\n",
    "#     \"Cherry___Powdery_mildew\",\n",
    "#     \"Cherry___healthy\",\n",
    "#     \"Corn___Cercospora_leaf_spot Gray_leaf_spot\",\n",
    "#     \"Corn___Common_rust\",\n",
    "#     \"Corn___Northern_Leaf_Blight\",\n",
    "#     \"Corn___healthy\",\n",
    "#     \"Grape___Black_rot\",\n",
    "#     \"Grape___Esca_(Black_Measles)\",\n",
    "#     \"Grape___Leaf_blight_(Isariopsis_Leaf_Spot)\",\n",
    "#     \"Grape___healthy\",\n",
    "#     \"Orange___Haunglongbing_(Citrus_greening)\",\n",
    "#     \"Peach___Bacterial_spot\",\n",
    "#     \"Peach___healthy\",\n",
    "#     \"Pepper,_bell___Bacterial_spot\",\n",
    "#     \"Pepper,_bell___healthy\",\n",
    "#     \"Potato___Early_blight\",\n",
    "#     \"Potato___Late_blight\",\n",
    "#     \"Potato___healthy\",\n",
    "#     \"Raspberry___healthy\",\n",
    "#     \"Soybean___healthy\",\n",
    "#     \"Squash___Powdery_mildew\",\n",
    "#     \"Strawberry___Leaf_scorch\",\n",
    "#     \"Strawberry___healthy\",\n",
    "#     \"Tomato___Bacterial_spot\",\n",
    "#     \"Tomato___Early_blight\",\n",
    "#     \"Tomato___Late_blight\",\n",
    "#     \"Tomato___Leaf_Mold\",\n",
    "#     \"Tomato___Septoria_leaf_spot\",\n",
    "#     \"Tomato___Spider_mites Two-spotted_spider_mite\",\n",
    "#     \"Tomato___Target_Spot\",\n",
    "#     \"Tomato___Tomato_Yellow_Leaf_Curl_Virus\",\n",
    "#     \"Tomato___Tomato_mosaic_virus\",\n",
    "#     \"Tomato___healthy\"\n",
    "# ]\n",
    "\n",
    "# # Charger le modèle YOLO entraîné\n",
    "# model = YOLO(\"./best_v8.pt\")\n",
    "\n",
    "# def predict_disease(image):\n",
    "#     # Faire une prédiction\n",
    "#     results = model(image)\n",
    "\n",
    "#     # Extraire la première détection\n",
    "#     if results[0].boxes:\n",
    "#         cls_id = int(results[0].boxes.cls[0].item())\n",
    "#         conf = float(results[0].boxes.conf[0].item())\n",
    "#         label = disease_names[cls_id]\n",
    "#         return f\"✅ Maladie détectée : {label}\\n🔍 Confiance : {conf:.2%}\"\n",
    "#     else:\n",
    "#         return \"🤷‍♂️ Aucune maladie détectée sur cette image.\"\n",
    "\n",
    "# # Créer l'interface Gradio\n",
    "# interface = gr.Interface(\n",
    "#     fn=predict_disease,\n",
    "#     inputs=gr.Image(type=\"filepath\", label=\"Téléverse une image de feuille 🌿\"),\n",
    "#     outputs=\"text\",\n",
    "#     title=\"🩺 Détecteur de maladies des plantes\",\n",
    "#     description=\"Utilise un modèle YOLOv9 pour détecter les maladies des plantes à partir d'une image.\"\n",
    "# )\n",
    "\n",
    "# # Lancer l'interface\n",
    "# interface.launch()\n"
   ]
  },
  {
   "cell_type": "code",
   "execution_count": null,
   "id": "825a9eda",
   "metadata": {},
   "outputs": [],
   "source": []
  },
  {
   "cell_type": "code",
   "execution_count": null,
   "id": "77fa943d",
   "metadata": {},
   "outputs": [
    {
     "name": "stdout",
     "output_type": "stream",
     "text": [
      "* Running on local URL:  http://127.0.0.1:7862\n",
      "\n",
      "To create a public link, set `share=True` in `launch()`.\n"
     ]
    },
    {
     "data": {
      "text/html": [
       "<div><iframe src=\"http://127.0.0.1:7862/\" width=\"100%\" height=\"500\" allow=\"autoplay; camera; microphone; clipboard-read; clipboard-write;\" frameborder=\"0\" allowfullscreen></iframe></div>"
      ],
      "text/plain": [
       "<IPython.core.display.HTML object>"
      ]
     },
     "metadata": {},
     "output_type": "display_data"
    },
    {
     "data": {
      "text/plain": []
     },
     "execution_count": 41,
     "metadata": {},
     "output_type": "execute_result"
    },
    {
     "name": "stdout",
     "output_type": "stream",
     "text": [
      "\n",
      "image 1/1 C:\\Users\\LENOVO\\AppData\\Local\\Temp\\gradio\\c6b248ea2c2e765a347b36eb1413ed58b18920f2cecd277a5fea3719671db38e\\APAS_image 105.jpg: 640x640 1 0, 327.6ms\n",
      "Speed: 9.7ms preprocess, 327.6ms inference, 1.9ms postprocess per image at shape (1, 3, 640, 640)\n",
      "\n",
      "image 1/1 C:\\Users\\LENOVO\\AppData\\Local\\Temp\\gradio\\e251758422992bbaaa46a6fd30a51d07e11d06145c1dfe964f7d96fbf480856b\\APBR_image 14.jpg: 640x640 1 1, 374.0ms\n",
      "Speed: 9.1ms preprocess, 374.0ms inference, 3.3ms postprocess per image at shape (1, 3, 640, 640)\n"
     ]
    }
   ],
   "source": [
    "import gradio as gr\n",
    "from ultralytics import YOLO\n",
    "\n",
    "# Liste des noms de maladies\n",
    "disease_names = [\n",
    "    \"Apple___Apple_scab\",\n",
    "    \"Apple___Black_rot\",\n",
    "    \"Apple___Cedar_apple_rust\",\n",
    "    \"Apple___healthy\",\n",
    "    \"Blueberry___healthy\",\n",
    "    \"Cherry___Powdery_mildew\",\n",
    "    \"Cherry___healthy\",\n",
    "    \"Corn___Cercospora_leaf_spot Gray_leaf_spot\",\n",
    "    \"Corn___Common_rust\",\n",
    "    \"Corn___Northern_Leaf_Blight\",\n",
    "    \"Corn___healthy\",\n",
    "    \"Grape___Black_rot\",\n",
    "    \"Grape___Esca_(Black_Measles)\",\n",
    "    \"Grape___Leaf_blight_(Isariopsis_Leaf_Spot)\",\n",
    "    \"Grape___healthy\",\n",
    "    \"Orange___Haunglongbing_(Citrus_greening)\",\n",
    "    \"Peach___Bacterial_spot\",\n",
    "    \"Peach___healthy\",\n",
    "    \"Pepper,_bell___Bacterial_spot\",\n",
    "    \"Pepper,_bell___healthy\",\n",
    "    \"Potato___Early_blight\",\n",
    "    \"Potato___Late_blight\",\n",
    "    \"Potato___healthy\",\n",
    "    \"Raspberry___healthy\",\n",
    "    \"Soybean___healthy\",\n",
    "    \"Squash___Powdery_mildew\",\n",
    "    \"Strawberry___Leaf_scorch\",\n",
    "    \"Strawberry___healthy\",\n",
    "    \"Tomato___Bacterial_spot\",\n",
    "    \"Tomato___Early_blight\",\n",
    "    \"Tomato___Late_blight\",\n",
    "    \"Tomato___Leaf_Mold\",\n",
    "    \"Tomato___Septoria_leaf_spot\",\n",
    "    \"Tomato___Spider_mites Two-spotted_spider_mite\",\n",
    "    \"Tomato___Target_Spot\",\n",
    "    \"Tomato___Tomato_Yellow_Leaf_Curl_Virus\",\n",
    "    \"Tomato___Tomato_mosaic_virus\",\n",
    "    \"Tomato___healthy\"\n",
    "]\n",
    "\n",
    "# Dictionnaire des remèdes possibles\n",
    "disease_remedies = {\n",
    "    \"Apple___Apple_scab\": \"Utilisez des fongicides contenant du soufre et taillez les branches infectées.\",\n",
    "    \"Apple___Black_rot\": \"Éliminez les fruits momifiés et appliquez un fongicide à base de cuivre.\",\n",
    "    \"Apple___Cedar_apple_rust\": \"Évitez de planter des genévriers à proximité, utilisez un fongicide protecteur.\",\n",
    "    \"Cherry___Powdery_mildew\": \"Taillez pour améliorer la circulation de l'air et utilisez un fongicide biologique.\",\n",
    "    \"Corn___Cercospora_leaf_spot Gray_leaf_spot\": \"Pratiquez la rotation des cultures et appliquez du fongicide si nécessaire.\",\n",
    "    \"Corn___Common_rust\": \"Cultivez des variétés résistantes et traitez avec du fongicide au besoin.\",\n",
    "    \"Corn___Northern_Leaf_Blight\": \"Supprimez les débris de culture et utilisez des semences résistantes.\",\n",
    "    \"Grape___Black_rot\": \"Utilisez un fongicide dès le débourrement et éliminez les feuilles mortes.\",\n",
    "    \"Grape___Esca_(Black_Measles)\": \"Taillez les ceps infectés et appliquez des pratiques viticoles saines.\",\n",
    "    \"Grape___Leaf_blight_(Isariopsis_Leaf_Spot)\": \"Utilisez un traitement au cuivre en début de saison.\",\n",
    "    \"Orange___Haunglongbing_(Citrus_greening)\": \"Aucun traitement curatif. Arrachez les arbres infectés et luttez contre les insectes vecteurs.\",\n",
    "    \"Peach___Bacterial_spot\": \"Appliquez un traitement à base de cuivre au printemps.\",\n",
    "    \"Pepper,_bell___Bacterial_spot\": \"Utilisez des graines certifiées et désinfectez les outils.\",\n",
    "    \"Potato___Early_blight\": \"Utilisez des variétés résistantes et appliquez un fongicide dès l’apparition des symptômes.\",\n",
    "    \"Potato___Late_blight\": \"Évitez l’humidité prolongée sur les feuilles, utilisez des fongicides systémiques.\",\n",
    "    \"Squash___Powdery_mildew\": \"Favorisez la circulation de l'air et utilisez un traitement au soufre.\",\n",
    "    \"Strawberry___Leaf_scorch\": \"Enlevez les feuilles malades et évitez l'arrosage aérien.\",\n",
    "    \"Tomato___Bacterial_spot\": \"Utilisez des semences saines et appliquez des traitements à base de cuivre.\",\n",
    "    \"Tomato___Early_blight\": \"Appliquez un fongicide à base de chlorothalonil ou mancozèbe.\",\n",
    "    \"Tomato___Late_blight\": \"Retirez les plants infectés rapidement et appliquez un traitement préventif.\",\n",
    "    \"Tomato___Leaf_Mold\": \"Assurez une bonne aération et appliquez un fongicide approprié.\",\n",
    "    \"Tomato___Septoria_leaf_spot\": \"Évitez les éclaboussures d’eau et appliquez du cuivre.\",\n",
    "    \"Tomato___Spider_mites Two-spotted_spider_mite\": \"Pulvérisez de l’huile de neem ou introduisez des prédateurs naturels.\",\n",
    "    \"Tomato___Target_Spot\": \"Appliquez du chlorothalonil et évitez l’excès d’azote.\",\n",
    "    \"Tomato___Tomato_Yellow_Leaf_Curl_Virus\": \"Éliminez les plants infectés, contrôlez les mouches blanches.\",\n",
    "    \"Tomato___Tomato_mosaic_virus\": \"Nettoyez bien les outils, évitez de manipuler les plants sains après les malades.\",\n",
    "    # Les maladies saines ne nécessitent pas de remède :)\n",
    "}\n",
    "\n",
    "# Charger le modèle YOLO\n",
    "model = YOLO(\"./best_v8.pt\")\n",
    "\n",
    "# Fonction de prédiction enrichie avec remèdes\n",
    "def predict_disease(image):\n",
    "    results = model(image)\n",
    "    if results[0].boxes:\n",
    "        cls_id = int(results[0].boxes.cls[0].item())\n",
    "        conf = float(results[0].boxes.conf[0].item())\n",
    "        label = disease_names[cls_id]\n",
    "\n",
    "        # Chercher remède\n",
    "        remedy = disease_remedies.get(label, \"Aucun traitement nécessaire. La plante est saine 🍀\")\n",
    "\n",
    "        return f\"✅ Maladie détectée : {label}\\n🔍 Confiance : {conf:.2%}\\n💊 Remède suggéré : {remedy}\"\n",
    "    else:\n",
    "        return \"🤷‍♂️ Aucune maladie détectée sur cette image.\"\n",
    "\n",
    "# Lancer Gradio\n",
    "interface = gr.Interface(\n",
    "    fn=predict_disease,\n",
    "    inputs=gr.Image(type=\"filepath\", label=\"Téléverse une image de feuille 🌿\"),\n",
    "    outputs=\"text\",\n",
    "    title=\"🩺 Détecteur de maladies des plantes\",\n",
    "    description=\"Utilise un modèle YOLO pour détecter les maladies et proposer des remèdes 🌱\"\n",
    ")\n",
    "\n",
    "interface.launch()"
   ]
  },
  {
   "cell_type": "code",
   "execution_count": null,
   "id": "ae803b48",
   "metadata": {},
   "outputs": [],
   "source": []
  }
 ],
 "metadata": {
  "kernelspec": {
   "display_name": "base",
   "language": "python",
   "name": "python3"
  },
  "language_info": {
   "codemirror_mode": {
    "name": "ipython",
    "version": 3
   },
   "file_extension": ".py",
   "mimetype": "text/x-python",
   "name": "python",
   "nbconvert_exporter": "python",
   "pygments_lexer": "ipython3",
   "version": "3.12.7"
  }
 },
 "nbformat": 4,
 "nbformat_minor": 5
}
